{
 "cells": [
  {
   "cell_type": "code",
   "execution_count": 3,
   "id": "b8298ae8",
   "metadata": {},
   "outputs": [
    {
     "name": "stdout",
     "output_type": "stream",
     "text": [
      "Insira uma nota entre 0 e 10: 5\n",
      "Valor Válido\n"
     ]
    }
   ],
   "source": [
    "'''Exercício 1 - Faça um programa que peça uma nota, entre zero e dez. \n",
    "Mostre uma mensagem caso o valor seja inválido e \n",
    "continue pedindo até que o usuário informe um valor válido.'''\n",
    "\n",
    "nota = int(input('Insira uma nota entre 0 e 10: '))\n",
    "volta = 0\n",
    "while nota < 0 or nota > 10:\n",
    "    print('Valor Inválido')\n",
    "    nota = int(input('Insira uma nota entre 0 e 10: '))\n",
    "    volta+=1\n",
    "else: \n",
    "    print('Valor Válido')\n",
    "    "
   ]
  },
  {
   "cell_type": "code",
   "execution_count": 2,
   "id": "a864cea3",
   "metadata": {},
   "outputs": [
    {
     "name": "stdout",
     "output_type": "stream",
     "text": [
      "Insira o usuário: paula\n",
      "Insira a senha: paula\n",
      "\n",
      "Senha inválida!\n",
      "A senha não poder ser igual ao usuário.\n",
      "\n",
      "Insira nova senha: 123\n"
     ]
    }
   ],
   "source": [
    "'''Exercício 2 - Faça um programa que leia um nome de usuário e a sua senha e não aceite a senha igual ao nome do usuário, \n",
    "mostrando uma mensagem de erro e voltando a pedir as informações.\n",
    "'''\n",
    "\n",
    "user = str(input('Insira o usuário: '))\n",
    "senha = str(input('Insira a senha: '))\n",
    "volta = 0\n",
    "\n",
    "if user == senha:\n",
    "    print('\\nSenha inválida!')\n",
    "    print('A senha não poder ser igual ao usuário.\\n')\n",
    "    senha = int(input('Insira nova senha: '))\n",
    "    volta+=1\n"
   ]
  },
  {
   "cell_type": "code",
   "execution_count": 1,
   "id": "c6d7f8b1",
   "metadata": {},
   "outputs": [
    {
     "name": "stdout",
     "output_type": "stream",
     "text": [
      "A populaçao de A se iguala a população de B em 63 anos\n"
     ]
    }
   ],
   "source": [
    "'''Exercício 4 - Supondo que a população de um país A seja da ordem de 80000 habitantes com uma \n",
    "taxa anual de crescimento de 3% e que a população de B seja 200000 habitantes com uma \n",
    "taxa de crescimento de 1.5%. Faça um programa que calcule e escreva o número de anos necessários para que \n",
    "a população do país A ultrapasse ou iguale a população do país B, mantidas as taxas de crescimento.\n",
    "'''\n",
    "a = 80000\n",
    "b = 200000\n",
    "ano = 0\n",
    "\n",
    "while a <= b:\n",
    "    a += a*0.03\n",
    "    b += b*0.015\n",
    "    ano +=1\n",
    "    \n",
    "print('A populaçao de A se iguala a população de B em {} anos'.format(ano))\n",
    "    "
   ]
  },
  {
   "cell_type": "code",
   "execution_count": null,
   "id": "b328f16c",
   "metadata": {},
   "outputs": [],
   "source": [
    "'''Exercício 5 - Altere o programa anterior permitindo ao usuário informar as populações e as taxas de crescimento iniciais. \n",
    "Valide a entrada e permita repetir a operação'''"
   ]
  },
  {
   "cell_type": "code",
   "execution_count": 25,
   "id": "be8b019f",
   "metadata": {
    "scrolled": true
   },
   "outputs": [
    {
     "name": "stdout",
     "output_type": "stream",
     "text": [
      "1 2 3 4 5 6 7 8 9 10 11 12 13 14 15 16 17 18 19 "
     ]
    }
   ],
   "source": [
    "'''Exercício 6 - Faça um programa que imprima na tela os números de 1 a 20, um abaixo do outro. \n",
    "Depois modifique o programa para que ele mostre os números um ao lado do outro.\n",
    "'''\n",
    "lista =[]\n",
    "for lista in range(1,21):\n",
    "    print(lista, end=' ')\n",
    "\n",
    "    \n",
    "  \n",
    "\n",
    "    \n"
   ]
  },
  {
   "cell_type": "code",
   "execution_count": 6,
   "id": "95e20e36",
   "metadata": {},
   "outputs": [
    {
     "name": "stdout",
     "output_type": "stream",
     "text": [
      "Insira um numero : 23\n",
      "Insira outro numero : 178\n",
      "Insira outro numero : 562\n",
      "Insira outro numero : 45\n",
      "Insira outro numero : 122\n",
      "\n",
      "O Maior número inserido é o 562\n"
     ]
    }
   ],
   "source": [
    "'''Exercicio 7 - Faça um programa que leia 5 números e informe o maior número.\n",
    "'''\n",
    "lista = []\n",
    "\n",
    "num1 = lista.append(int(input('Insira um numero : ')))\n",
    "num2 = lista.append(int(input('Insira outro numero : ')))\n",
    "num3 = lista.append(int(input('Insira outro numero : ')))\n",
    "num4 = lista.append(int(input('Insira outro numero : ')))\n",
    "num5 = lista.append(int(input('Insira outro numero : ')))\n",
    "\n",
    "print('\\nO Maior número inserido é o', max(lista))\n",
    "\n",
    "\n"
   ]
  },
  {
   "cell_type": "code",
   "execution_count": 7,
   "id": "a5ef8eca",
   "metadata": {},
   "outputs": [
    {
     "name": "stdout",
     "output_type": "stream",
     "text": [
      "Insira um numero    : 50\n",
      "Insira outro numero : 10\n",
      "Insira outro numero : 00\n",
      "Insira outro numero : 10\n",
      "Insira outro numero : 10\n",
      "A soma dos números inseridos é  80\n",
      "\n",
      "A média dos números inseridos é  16.0\n"
     ]
    }
   ],
   "source": [
    "'''Exercício 8- Faça um programa que leia 5 números e informe a soma e a média dos números.\n",
    "'''\n",
    "\n",
    "lista = []\n",
    "\n",
    "num1 = lista.append(int(input('Insira um numero    : ')))\n",
    "num2 = lista.append(int(input('Insira outro numero : ')))\n",
    "num3 = lista.append(int(input('Insira outro numero : ')))\n",
    "num4 = lista.append(int(input('Insira outro numero : ')))\n",
    "num5 = lista.append(int(input('Insira outro numero : ')))\n",
    "\n",
    "soma = sum(lista)\n",
    "media = soma/5\n",
    "print('A soma dos números inseridos é ',soma)\n",
    "print('\\nA média dos números inseridos é ',media)"
   ]
  },
  {
   "cell_type": "code",
   "execution_count": 10,
   "id": "94c01224",
   "metadata": {},
   "outputs": [
    {
     "name": "stdout",
     "output_type": "stream",
     "text": [
      "1 3 5 7 9 11 13 15 17 19 21 23 25 27 29 31 33 35 37 39 41 43 45 47 49 "
     ]
    }
   ],
   "source": [
    "'''Exercício 9 - Faça um programa que imprima na tela apenas os números ímpares entre 1 e 50.\n",
    "'''\n",
    "\n",
    "lista = []\n",
    "for lista in range(1,50):\n",
    "    if lista % 2 != 0:\n",
    "        print(lista, end=\" \")"
   ]
  },
  {
   "cell_type": "code",
   "execution_count": 24,
   "id": "7af366c4",
   "metadata": {},
   "outputs": [
    {
     "name": "stdout",
     "output_type": "stream",
     "text": [
      "Insira um número inteiro: 10\n",
      "Insira outro número inteiro: 20\n",
      "10 11 12 13 14 15 16 17 18 19 20 "
     ]
    }
   ],
   "source": [
    "'''Exercício 10 - Faça um programa que receba dois números inteiros e gere os números inteiros que estão no intervalo \n",
    "compreendido por eles.\n",
    "'''\n",
    "num1 = int(input('Insira um número inteiro: '))\n",
    "num2 = int(input('Insira outro número inteiro: '))\n",
    "\n",
    "while num2<num1:\n",
    "    print(\"Insira o menor número primeiro\")\n",
    "    num1 = lista.append(int(input('Insira um número inteiro: ')))\n",
    "    num2 = lista.append(int(input('Insira outro número inteiro: ')))\n",
    "    \n",
    "else:\n",
    "    for i in range(num1,num2+1):\n",
    "        print(i, end=\" \")\n"
   ]
  }
 ],
 "metadata": {
  "kernelspec": {
   "display_name": "Python 3 (ipykernel)",
   "language": "python",
   "name": "python3"
  },
  "language_info": {
   "codemirror_mode": {
    "name": "ipython",
    "version": 3
   },
   "file_extension": ".py",
   "mimetype": "text/x-python",
   "name": "python",
   "nbconvert_exporter": "python",
   "pygments_lexer": "ipython3",
   "version": "3.9.12"
  }
 },
 "nbformat": 4,
 "nbformat_minor": 5
}
