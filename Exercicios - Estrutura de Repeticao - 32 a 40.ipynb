{
 "cells": [
  {
   "cell_type": "code",
   "execution_count": 2,
   "id": "6986213b",
   "metadata": {},
   "outputs": [
    {
     "name": "stdout",
     "output_type": "stream",
     "text": [
      "Insira um nuúmero inteiro:6\n",
      "6! = 6.5.4.3.2.1 = 720\n"
     ]
    }
   ],
   "source": [
    "'''Exercício 32 - Faça um programa que calcule o fatorial de um número inteiro fornecido pelo usuário.\n",
    "Ex.: 5!=5.4.3.2.1=120. A saída deve ser conforme o exemplo abaixo:\n",
    "Fatorial de: 5\n",
    "5! =  5 . 4 . 3 . 2 . 1 = 120\n",
    "'''\n",
    "\n",
    "\n",
    "num = int(input('Insira um nuúmero inteiro:'))\n",
    "volta = num\n",
    "fatorial = 1\n",
    "print('{}! = '.format(num),end=\"\")\n",
    "while volta > 0:\n",
    "    print('{1}'.format(num, volta),end=\"\")\n",
    "    print('.' if volta>1 else' = ', end='')\n",
    "    fatorial = fatorial*volta\n",
    "    volta = volta-1\n",
    "print('{}'.format(fatorial))\n",
    "    \n",
    "    \n",
    "    \n",
    "   \n",
    "    "
   ]
  },
  {
   "cell_type": "code",
   "execution_count": 3,
   "id": "7d7af5b1",
   "metadata": {},
   "outputs": [
    {
     "name": "stdout",
     "output_type": "stream",
     "text": [
      "Insira uma temperatura: \n",
      "23\n",
      "Quer incluir outra temperatura? S-sim e N-Nãos\n",
      "Insira uma temperatura: \n",
      "32\n",
      "Quer incluir outra temperatura? S-sim e N-Nãos\n",
      "Insira uma temperatura: \n",
      "11\n",
      "Quer incluir outra temperatura? S-sim e N-Nãon\n",
      "\n",
      "Temperaturas Relacionadas: [23, 32, 11]°C\n",
      "Maior Temperatura: 32°C\n",
      "Menor Temperatura: 11°C\n",
      "Media Temperatura: 22.0\n"
     ]
    }
   ],
   "source": [
    "'''Exercício 33 - O Departamento Estadual de Meteorologia lhe contratou para desenvolver um programa\n",
    "que leia as um conjunto indeterminado de temperaturas, e informe ao final a menor e a maior \n",
    "temperaturas informadas, bem como a média das temperaturas.\n",
    "'''\n",
    "pergunta = 'S'\n",
    "lista_temperaturas_informadas = []\n",
    "lista_pergunta = []\n",
    "while pergunta == 'S':\n",
    "    temperaturas = int(input('Insira uma temperatura: \\n'))\n",
    "    pergunta = str(input('Quer incluir outra temperatura? S-sim e N-Não')).upper()\n",
    "    lista_temperaturas_informadas.append(temperaturas)\n",
    "    lista_pergunta.append(pergunta)\n",
    "    \n",
    "print('\\nTemperaturas Relacionadas: {}°C'.format(lista_temperaturas_informadas))\n",
    "\n",
    "media1 = sum(lista_temperaturas_informadas)\n",
    "media2 = len(lista_pergunta)\n",
    "media = media1/media2\n",
    "\n",
    "print('Maior Temperatura: {0}°C\\nMenor Temperatura: {1}°C'.format(max(lista_temperaturas_informadas),(min(lista_temperaturas_informadas))))\n",
    "print('Media Temperatura: {}'.format(media))\n",
    "\n"
   ]
  },
  {
   "cell_type": "code",
   "execution_count": 13,
   "id": "db99a89a",
   "metadata": {},
   "outputs": [
    {
     "name": "stdout",
     "output_type": "stream",
     "text": [
      "Insira um numero inteiro: \n",
      "5\n",
      "O número 5 é um Numero Primo\n"
     ]
    }
   ],
   "source": [
    "'''Exercício 34 - Os números primos possuem várias aplicações dentro da Computação, por exemplo na Criptografia. \n",
    "Um número primo é aquele que é divisível apenas por um e por ele mesmo. \n",
    "Faça um programa que peça um número inteiro e determine se ele é ou não um número primo.\n",
    "'''\n",
    "num = int(input('Insira um numero inteiro: \\n'))\n",
    "volta=0\n",
    "n_inteiros = []\n",
    "for contador in range(2, num+1):\n",
    "    if num % contador == 0:\n",
    "        n_inteiros.append(contador)\n",
    "        volta+=1\n",
    "        \n",
    "if len(n_inteiros) != 1:\n",
    "    print('O numero {} não é um numero primo'.format(num))\n",
    "else:\n",
    "    print('O número {} é um Numero Primo'.format(num))\n",
    "        \n",
    "    "
   ]
  },
  {
   "cell_type": "code",
   "execution_count": 65,
   "id": "da1c48f8",
   "metadata": {
    "scrolled": false
   },
   "outputs": [
    {
     "name": "stdout",
     "output_type": "stream",
     "text": [
      "Insira um número: 8\n",
      "\n",
      "NÚMEROS PRIMOS\n",
      "=-=-=-=-=-=-=-=-=-=-=-=-=-=-=-=-=-=-=-=-=-=-=-=-=-=-=-=-=-=-\n",
      "[0, 1, 2, 3, 4, 5, 6, 7, 8]\n",
      "[1, 2]\n"
     ]
    }
   ],
   "source": [
    "'''Exercício 35 - Encontrar números primos é uma tarefa difícil. \n",
    "Faça um programa que gera uma lista dos números primos existentes entre 1 e um número inteiro informado pelo usuário.\n",
    "'''\n",
    "num = int(input('Insira um número: '))\n",
    "lista=[]\n",
    "lista1=[]\n",
    "print('\\nNÚMEROS PRIMOS')\n",
    "print('=-'*30)\n",
    "\n",
    "for n in range(num+1):\n",
    "    lista.append(n)\n",
    "    \n",
    "    for i in range(1,len(lista)):\n",
    "        if n%i ==0:\n",
    "            lista1.append(n)\n",
    "            if len(lista1)>2:\n",
    "                lista1.remove(n)\n",
    "print(lista)\n",
    "print(lista1)\n",
    "        \n",
    "\n"
   ]
  },
  {
   "cell_type": "code",
   "execution_count": 23,
   "id": "ec7b4fed",
   "metadata": {},
   "outputs": [
    {
     "name": "stdout",
     "output_type": "stream",
     "text": [
      "Digite um número: 5\n",
      "Digite um número para começa a tabuada:3\n",
      "Digite um número para finalizar a tabuada:5\n",
      "\n",
      "Tabuada de 5 começando em 3 e terminando em 5:\n",
      "5x3 = 15\n",
      "5x4 = 20\n",
      "5x5 = 25\n"
     ]
    }
   ],
   "source": [
    "'''Exercício 36 - Desenvolva um programa que faça a tabuada de um número qualquer inteiro que será digitado pelo usuário, \n",
    "mas a tabuada não deve necessariamente iniciar em 1 e terminar em 10, o valor inicial \n",
    "e final devem ser informados também pelo usuário, conforme exemplo abaixo:\n",
    "Montar a tabuada de: 5\n",
    "Começar por: 4\n",
    "Terminar em: 7\n",
    "\n",
    "Vou montar a tabuada de 5 começando em 4 e terminando em 7:\n",
    "5 X 4 = 20\n",
    "5 X 5 = 25\n",
    "5 X 6 = 30\n",
    "5 X 7 = 35'''\n",
    "\n",
    "\n",
    "n = int(input('Digite um número: '))\n",
    "ini = int(input('Digite um número para começa a tabuada:'))\n",
    "fim = int(input('Digite um número para finalizar a tabuada:'))\n",
    "cont = 0\n",
    "print('\\nTabuada de {0} começando em {1} e terminando em {2}:'.format(n, ini, fim))\n",
    "\n",
    "while (cont+ini) <= fim:\n",
    "    tab = n*(cont+ini)\n",
    "    print('{}x{} ='.format(n,(cont+ini)), end=\" \")\n",
    "    cont+=1\n",
    "    print(tab)\n"
   ]
  },
  {
   "cell_type": "code",
   "execution_count": 20,
   "id": "9ff2137c",
   "metadata": {},
   "outputs": [
    {
     "name": "stdout",
     "output_type": "stream",
     "text": [
      "Qual a sua altura:160\n",
      "Qual o seu peso:49\n",
      "Digite seu código com zero no final:45\n",
      "\n",
      "Mais alto:160cm\n",
      "Mais baixo:160cm\n",
      "Mais gordo:49.0kg\n",
      "Mais magro:49.0kg\n"
     ]
    }
   ],
   "source": [
    "'''Exercício 37 - Uma academia deseja fazer um senso entre seus clientes para descobrir o mais alto,\n",
    "o mais baixo, a mais gordo e o mais magro, para isto você deve fazer um programa que pergunte a \n",
    "cada um dos clientes da academia seu código, sua altura e seu peso. O final da digitação de dados deve ser dada \n",
    "quando o usuário digitar 0 (zero) no campo código. Ao encerrar o programa também deve ser informados os \n",
    "códigos e valores do clente mais alto, do mais baixo, do mais gordo e do mais magro, além da média das alturas e \n",
    "dos pesos dos clientes\n",
    "'''\n",
    "lista_alt=[]\n",
    "lista_peso=[]\n",
    "lista_codigo=[]\n",
    "\n",
    "def dados():\n",
    "    alt = int(input('Qual a sua altura:'))\n",
    "    lista_alt.append(alt)\n",
    "    \n",
    "    peso= float(input('Qual o seu peso:'))\n",
    "    lista_peso.append(peso)\n",
    "    \n",
    "    cod=int(input('Digite seu código com zero no final:'))\n",
    "    lista_codigo.append(cod)\n",
    "    if 0 in lista_codigo:\n",
    "        return False\n",
    "    else:\n",
    "        return True \n",
    "dados()\n",
    "\n",
    "while lista_codigo == 'True':\n",
    "    dados()\n",
    "\n",
    "    \n",
    "    \n",
    "alto=max(lista_alt)\n",
    "baixo=min(lista_alt)\n",
    "print(f'\\nMais alto:{alto}cm\\nMais baixo:{baixo}cm')\n",
    "\n",
    "gordo=max(lista_peso)\n",
    "magro=min(lista_peso)\n",
    "print(f'Mais gordo:{gordo}kg\\nMais magro:{magro}kg')\n",
    "\n"
   ]
  },
  {
   "cell_type": "code",
   "execution_count": 61,
   "id": "37ede133",
   "metadata": {},
   "outputs": [
    {
     "name": "stdout",
     "output_type": "stream",
     "text": [
      "Insira o valor do salário inicial: 1000\n",
      "Insira o ano atual: 2000\n",
      "1995 = 1000 - 0.015\n",
      "2000 = 1945.0 - 0.48\n"
     ]
    }
   ],
   "source": [
    "'''Exercício 38 - Um funcionário de uma empresa recebe aumento salarial anualmente: Sabe-se que:\n",
    "Esse funcionário foi contratado em 1995, com salário inicial de R$ 1.000,00;\n",
    "Em 1996 recebeu aumento de 1,5% sobre seu salário inicial;\n",
    "A partir de 1997 (inclusive), os aumentos salariais sempre correspondem ao dobro do percentual \n",
    "do ano anterior. Faça um programa que determine o salário atual desse funcionário. \n",
    "Após concluir isto, altere o programa permitindo que o usuário digite o salário inicial do funcionário'''\n",
    "\n",
    "salarioInicial= int(input('Insira o valor do salário inicial: '))\n",
    "anoInicial=1995\n",
    "anoAtual=int(input('Insira o ano atual: '))\n",
    "txAumento=0.015\n",
    "totalAno=anoAtual-anoInicial\n",
    "contadorAno=anoInicial+1\n",
    "salario=salarioInicial+(txAumento*salarioInicial)\n",
    "print(anoInicial, '=',salarioInicial,'-',txAumento)\n",
    "\n",
    "for contador in range(0, totalAno):\n",
    "    anoInicial+=1\n",
    "    txAumento*=2\n",
    "    salario=salario+(txAumento*salarioInicial)\n",
    "    contador+=1\n",
    "print(anoInicial,'=',salario, '-', txAumento)\n"
   ]
  },
  {
   "cell_type": "code",
   "execution_count": 57,
   "id": "407f90de",
   "metadata": {},
   "outputs": [
    {
     "name": "stdout",
     "output_type": "stream",
     "text": [
      "Insira a altura do aluno 1 em cm: 190\n",
      "Insira a altura do aluno 2 em cm: 180\n",
      "Insira a altura do aluno 3 em cm: 140\n",
      "Insira a altura do aluno 4 em cm: 155\n",
      "Insira a altura do aluno 5 em cm: 156\n",
      "Insira a altura do aluno 6 em cm: 178\n",
      "Insira a altura do aluno 7 em cm: 169\n",
      "Insira a altura do aluno 8 em cm: 153\n",
      "Insira a altura do aluno 9 em cm: 152\n",
      "Insira a altura do aluno 10 em cm: 199\n",
      "\n",
      "Maior Aluno da turma: Aluno 10 - 199cm\n",
      "\n",
      "Menor Aluno da turma: Aluno 10 - 140cm\n"
     ]
    }
   ],
   "source": [
    "'''Exercicio 39 - Faça um programa que leia dez conjuntos de dois valores, o primeiro representando o \n",
    "número do aluno e o segundo representando a sua altura em centímetros. Encontre o aluno mais alto e o mais baixo.\n",
    "Mostre o número do aluno mais alto e o número do aluno mais baixo,\n",
    "junto com suas altura'''\n",
    "\n",
    "altura=[]\n",
    "\n",
    "for i in range(1,11):\n",
    "    a=(int(input(f'Insira a altura do aluno {i} em cm: ')))\n",
    "    altura.append(a)\n",
    "maiorA=max(altura)\n",
    "menorA=min(altura)\n",
    "print(f'\\nMaior Aluno da turma: Aluno {i} - {maiorA}cm')\n",
    "print(f'\\nMenor Aluno da turma: Aluno {i} - {menorA}cm')\n",
    "    \n"
   ]
  },
  {
   "cell_type": "code",
   "execution_count": 81,
   "id": "0ed73905",
   "metadata": {},
   "outputs": [
    {
     "name": "stdout",
     "output_type": "stream",
     "text": [
      "Insira o codigo da cidade 1:1\n",
      "Insira o número de veículo da cidade 1:1000\n",
      "Insira o número de acidentes com vítimas da cidade 1:10\n",
      "Insira o codigo da cidade 2:2\n",
      "Insira o número de veículo da cidade 2:1800\n",
      "Insira o número de acidentes com vítimas da cidade 2:5\n",
      "Insira o codigo da cidade 3:3\n",
      "Insira o número de veículo da cidade 3:1200\n",
      "Insira o número de acidentes com vítimas da cidade 3:12\n",
      "Insira o codigo da cidade 4:4\n",
      "Insira o número de veículo da cidade 4:3000\n",
      "Insira o número de acidentes com vítimas da cidade 4:23\n",
      "Insira o codigo da cidade 5:5\n",
      "Insira o número de veículo da cidade 5:1500\n",
      "Insira o número de acidentes com vítimas da cidade 5:6\n",
      "\n",
      "Maior índice de acidentes: Cidade 5 - 23 acidentes\n",
      "\n",
      "Menor índice de acidentes: Cidade 5 - 5 acidentes\n",
      "\n",
      "Media de veículos: 1700 veículos\n",
      "\n",
      "Media de acidentes nas cidade com menos de 2000 veículos: 8.25\n"
     ]
    }
   ],
   "source": [
    "'''Exercicio 40 - Foi feita uma estatística em cinco cidades brasileiras para coletar dados sobre acidentes de trânsito. \n",
    "\n",
    "Foram obtidos os seguintes dados:\n",
    "Código da cidade;\n",
    "Número de veículos de passeio (em 1999);\n",
    "Número de acidentes de trânsito com vítimas (em 1999). Deseja-se saber:\n",
    "Qual o maior e menor índice de acidentes de transito e a que cidade pertence;\n",
    "Qual a média de veículos nas cinco cidades juntas;\n",
    "Qual a média de acidentes de trânsito nas cidades com menos de 2.000 veículos de passeio.\n",
    "'''\n",
    "acidentes=[]\n",
    "veiculos=[]\n",
    "acid=[]\n",
    "for c in range(1,6):\n",
    "    cod=int(input(f'Insira o codigo da cidade {c}:'))\n",
    "    numVeic=int(input(f'Insira o número de veículo da cidade {c}:'))\n",
    "    veiculos.append(numVeic)\n",
    "    numAcid=int(input(f'Insira o número de acidentes com vítimas da cidade {c}:'))\n",
    "    acidentes.append(numAcid)\n",
    "    \n",
    "    if numVeic<2000:\n",
    "        acid.append(numAcid)\n",
    "        \n",
    "mediaAcid=sum(acid)/len(acid)\n",
    "mediaVeic=sum(veiculos)/len(veiculos)\n",
    "\n",
    "print(f'\\nMaior índice de acidentes: Cidade {c} - {max(acidentes)} acidentes')\n",
    "print(f'\\nMenor índice de acidentes: Cidade {c} - {min(acidentes)} acidentes')\n",
    "print(f'\\nMedia de veículos: {round(mediaVeic)} veículos')\n",
    "print(f'\\nMedia de acidentes nas cidade com menos de 2000 veículos: {mediaAcid}')\n",
    "        \n",
    "\n"
   ]
  }
 ],
 "metadata": {
  "kernelspec": {
   "display_name": "Python 3 (ipykernel)",
   "language": "python",
   "name": "python3"
  },
  "language_info": {
   "codemirror_mode": {
    "name": "ipython",
    "version": 3
   },
   "file_extension": ".py",
   "mimetype": "text/x-python",
   "name": "python",
   "nbconvert_exporter": "python",
   "pygments_lexer": "ipython3",
   "version": "3.9.12"
  }
 },
 "nbformat": 4,
 "nbformat_minor": 5
}
