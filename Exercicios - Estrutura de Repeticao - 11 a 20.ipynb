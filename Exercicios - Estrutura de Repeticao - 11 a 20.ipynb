{
 "cells": [
  {
   "cell_type": "code",
   "execution_count": 6,
   "id": "3736eb31",
   "metadata": {},
   "outputs": [
    {
     "name": "stdout",
     "output_type": "stream",
     "text": [
      "Insira um número inteiro: 2\n",
      "Insira outro número inteiro: 8\n",
      "[2, 3, 4, 5, 6, 7, 8]\n",
      "\n",
      "A soma da lista é  35\n"
     ]
    }
   ],
   "source": [
    "'''Exercicio 11 - Altere o programa anterior para mostrar no final a soma dos números.\n",
    "'''\n",
    "\n",
    "num1 = int(input('Insira um número inteiro: '))\n",
    "num2 = int(input('Insira outro número inteiro: '))\n",
    "lista = []\n",
    "for i in range(num1,num2+1):\n",
    "    lista.append(i)\n",
    "print(lista)\n",
    "print('\\nA soma da lista é ',sum(lista))\n",
    "\n",
    "\n"
   ]
  },
  {
   "cell_type": "code",
   "execution_count": 8,
   "id": "7f9c14b9",
   "metadata": {},
   "outputs": [
    {
     "name": "stdout",
     "output_type": "stream",
     "text": [
      "Insira um número inteiro:  2\n",
      "\n",
      "Tabuada de 2\n",
      "\n",
      "2 x 1 = 2\n",
      "2 x 2 = 4\n",
      "2 x 3 = 6\n",
      "2 x 4 = 8\n",
      "2 x 5 = 10\n",
      "2 x 6 = 12\n",
      "2 x 7 = 14\n",
      "2 x 8 = 16\n",
      "2 x 9 = 18\n",
      "2 x 10 = 20\n"
     ]
    }
   ],
   "source": [
    "'''Exercício 12 - Desenvolva um gerador de tabuada, capaz de gerar a tabuada de qualquer número inteiro entre 1 a 10. \n",
    "O usuário deve informar de qual numero ele deseja ver a tabuada. A saída deve ser conforme o exemplo abaixo:\n",
    "Tabuada de 5:\n",
    "5 X 1 = 5\n",
    "5 X 2 = 10\n",
    "...\n",
    "5 X 10 = 50'''\n",
    "\n",
    "num = int(input('Insira um número inteiro:  '))\n",
    "print('\\nTabuada de {}\\n'.format(num))\n",
    "volta = 1\n",
    "\n",
    "for i in range(1,11):\n",
    "    tabuada = num*i\n",
    "    volta=+1\n",
    "    print('{0} x {1} = {2}'.format(num, i, tabuada))"
   ]
  },
  {
   "cell_type": "code",
   "execution_count": 24,
   "id": "fcea8bfe",
   "metadata": {},
   "outputs": [
    {
     "name": "stdout",
     "output_type": "stream",
     "text": [
      "Insira um número (base): 2\n",
      "Insira outro número (expoente):5\n",
      "Base 2 elevado 5 = 32\n"
     ]
    }
   ],
   "source": [
    "'''Exercício 13 - Faça um programa que peça dois números, base e expoente, \n",
    "calcule e mostre o primeiro número elevado ao segundo número. Não utilize a função de potência da linguagem.\n",
    "'''\n",
    "\n",
    "base = int(input('Insira um número (base): '))\n",
    "expoente = int(input('Insira outro número (expoente):'))\n",
    "volta = 1\n",
    "num = 1\n",
    "\n",
    "while volta <= expoente:\n",
    "    num = num*base\n",
    "    volta+=1\n",
    "    \n",
    "print('Base {} elevado {} = {}'.format(base, expoente, num))"
   ]
  },
  {
   "cell_type": "code",
   "execution_count": 18,
   "id": "2aba9314",
   "metadata": {},
   "outputs": [
    {
     "name": "stdout",
     "output_type": "stream",
     "text": [
      "Insira um número inteiro: 10\n",
      "Insira um número inteiro: 11\n",
      "Insira um número inteiro: 12\n",
      "Insira um número inteiro: 13\n",
      "Insira um número inteiro: 14\n",
      "Insira um número inteiro: 15\n",
      "Insira um número inteiro: 16\n",
      "Insira um número inteiro: 17\n",
      "Insira um número inteiro: 18\n",
      "Insira um número inteiro: 19\n",
      "Dentro dos valores inseridos, 5 são par e 5 são ímpar\n"
     ]
    }
   ],
   "source": [
    "'''Exercício 14 - Faça um programa que peça 10 números inteiros, \n",
    "calcule e mostre a quantidade de números pares e a quantidade de números impares.\n",
    "'''\n",
    "\n",
    "lista = []\n",
    "volta = 1\n",
    "volta_imp, volta_par = 0, 0\n",
    "\n",
    "\n",
    "while volta <= 10:\n",
    "    num = lista.append((int(input('Insira um número inteiro: '))))\n",
    "    volta +=1\n",
    "    \n",
    "for i in lista:\n",
    "    if i % 2 == 0:\n",
    "        volta_par +=1\n",
    "    else:\n",
    "        volta_imp +=1\n",
    "print('Dentro dos valores inseridos, {} são par e {} são ímpar'.format(volta_par, volta_imp))\n",
    "\n",
    "        \n"
   ]
  },
  {
   "cell_type": "code",
   "execution_count": 34,
   "id": "1e06f3f6",
   "metadata": {},
   "outputs": [
    {
     "name": "stdout",
     "output_type": "stream",
     "text": [
      "Insira a posição para ser descoberta: 4\n",
      "Na posição 4, o número da sequência de Fibonacci será 8\n"
     ]
    }
   ],
   "source": [
    "'''Exercício 15 - A série de Fibonacci é formada pela seqüência 1,1,2,3,5,8,13,21,34,55,... \n",
    "Faça um programa capaz de gerar a série até o n−ésimo termo.\n",
    "'''\n",
    "\n",
    "a=1\n",
    "b=1\n",
    "volta=0\n",
    "\n",
    "n_esimo = int(input('Insira a posição para ser descoberta: '))\n",
    "\n",
    "while volta < n_esimo:\n",
    "    fibonacci = a+b\n",
    "    a=b\n",
    "    b=fibonacci\n",
    "    volta+=1\n",
    "\n",
    "print('Na posição {0}, o número da sequência de Fibonacci será {1}'.format(n_esimo, fibonacci))"
   ]
  },
  {
   "cell_type": "code",
   "execution_count": 6,
   "id": "bff415a3",
   "metadata": {},
   "outputs": [
    {
     "name": "stdout",
     "output_type": "stream",
     "text": [
      "Série de Fibonacci até o valor 500\n",
      "\n",
      "Posição 1 - Valor 2 \n",
      "Posição 2 - Valor 3 \n",
      "Posição 3 - Valor 5 \n",
      "Posição 4 - Valor 8 \n",
      "Posição 5 - Valor 13 \n",
      "Posição 6 - Valor 21 \n",
      "Posição 7 - Valor 34 \n",
      "Posição 8 - Valor 55 \n",
      "Posição 9 - Valor 89 \n",
      "Posição 10 - Valor 144 \n",
      "Posição 11 - Valor 233 \n",
      "Posição 12 - Valor 377 \n",
      "Posição 13 - Valor 610 \n"
     ]
    }
   ],
   "source": [
    "'''Exercício 16 - A série de Fibonacci é formada pela seqüência 0,1,1,2,3,5,8,13,21,34,55,... \n",
    "Faça um programa que gere a série até que o valor seja maior que 500.\n",
    "'''\n",
    "a=1\n",
    "b=1\n",
    "volta=0\n",
    "fibonacci= a+b\n",
    "print('Série de Fibonacci até o valor 500\\n')\n",
    "\n",
    "while fibonacci < 500:\n",
    "    fibonacci = a+b\n",
    "    a=b\n",
    "    b=fibonacci\n",
    "    volta+=1\n",
    "    print('Posição {0} - Valor {1} '.format(volta, fibonacci))"
   ]
  },
  {
   "cell_type": "code",
   "execution_count": 7,
   "id": "e3931516",
   "metadata": {},
   "outputs": [
    {
     "name": "stdout",
     "output_type": "stream",
     "text": [
      "Insira um número inteiro: 5\n",
      "5!= 5. 4. 3. 2. 1. = 120\n"
     ]
    }
   ],
   "source": [
    "'''Exercicio 17 - Faça um programa que calcule o fatorial de um número inteiro fornecido pelo usuário. Ex.: 5!=5.4.3.2.1=120\n",
    "'''\n",
    "\n",
    "num = int(input('Insira um número inteiro: '))\n",
    "roda = num\n",
    "fat = 1\n",
    "print('{}!='.format(num),end=\" \")\n",
    "\n",
    "while roda > 0: \n",
    "    print('{}.'.format(roda), end=' ')\n",
    "    fat*= roda\n",
    "    roda-=1\n",
    "print('= {}'.format(fat))\n",
    "\n",
    "    \n",
    "                "
   ]
  },
  {
   "cell_type": "code",
   "execution_count": 7,
   "id": "e86e8557",
   "metadata": {},
   "outputs": [
    {
     "name": "stdout",
     "output_type": "stream",
     "text": [
      "Insira um número: 89\n",
      "Insira outro numrto: 74\n",
      "Você gostaria de inserir outro número?\n",
      "Responda S-sim ou N-Não.s\n",
      "Insira outro numero: 45\n",
      "Você gostaria de inserir outro número?\n",
      "Responda S-sim ou N-Não.n\n",
      "\n",
      "Maior valor: 89\n",
      "Menor valor: 45\n",
      "Soma dos valores: 208\n"
     ]
    }
   ],
   "source": [
    "'''Exercício 18 - Faça um programa que, dado um conjunto de N números, determine o menor valor, \n",
    "o maior valor e a soma dos valores.\n",
    "'''\n",
    "lista = []\n",
    "\n",
    "num = lista.append(int(input('Insira um número: ')))\n",
    "num2 = lista.append(int(input('Insira outro numrto: ')))\n",
    "perg = str(input('Você gostaria de inserir outro número?\\nResponda S-sim ou N-Não.')).upper()\n",
    "\n",
    "while perg == 'S':\n",
    "    num2 = lista.append(int(input('Insira outro numero: ')))\n",
    "    perg = str(input('Você gostaria de inserir outro número?\\nResponda S-sim ou N-Não.')).upper()\n",
    "\n",
    "print('\\nMaior valor: {}\\nMenor valor: {}\\nSoma dos valores: {}'.format(max(lista), min(lista), sum(lista)))\n",
    "    \n",
    "    \n",
    "    \n"
   ]
  },
  {
   "cell_type": "code",
   "execution_count": 9,
   "id": "97d1fc6a",
   "metadata": {},
   "outputs": [
    {
     "name": "stdout",
     "output_type": "stream",
     "text": [
      "Insira outro numero entre 0 e 1000: 1002\n",
      "Inválido!\n",
      "Você gostaria de inserir outro número?\n",
      "Responda S-sim ou N-Não.s\n",
      "Insira outro numero entre 0 e 1000: 12\n",
      "Você gostaria de inserir outro número?\n",
      "Responda S-sim ou N-Não.s\n",
      "Insira outro numero entre 0 e 1000: 1004\n",
      "Inválido!\n",
      "Você gostaria de inserir outro número?\n",
      "Responda S-sim ou N-Não.s15\n",
      "\n",
      "Maior valor: 12\n",
      "Menor valor: 12\n",
      "Soma dos valores: 12\n"
     ]
    }
   ],
   "source": [
    "'''Exercício 19 - Altere o programa anterior para que ele aceite apenas números entre 0 e 1000.\n",
    "'''\n",
    "\n",
    "lista = []\n",
    "perg = 'S'\n",
    "\n",
    "while perg == 'S':\n",
    "    num =int(input('Insira outro numero entre 0 e 1000: '))\n",
    "    if num <0 or num > 1000:\n",
    "        print('Inválido!')\n",
    "    else:\n",
    "        lista.append(num)\n",
    "    perg = str(input('Você gostaria de inserir outro número?\\nResponda S-sim ou N-Não.')).upper()\n",
    "    \n",
    "\n",
    "print('\\nMaior valor: {}\\nMenor valor: {}\\nSoma dos valores: {}'.format(max(lista), min(lista), sum(lista)))\n",
    "    \n",
    "\n",
    "\n",
    "\n",
    "\n",
    "\n"
   ]
  },
  {
   "cell_type": "code",
   "execution_count": 3,
   "id": "dafa32ca",
   "metadata": {},
   "outputs": [
    {
     "name": "stdout",
     "output_type": "stream",
     "text": [
      "Insira um número inteiro: 18\n",
      "Número Inválido\n"
     ]
    }
   ],
   "source": [
    "'''Exercício 20 - Altere o pnrograma de cálculo do fatorial, permitindo ao usuário calcular o fatorial várias vezes e \n",
    "limitando o fatorial a números inteiros positivos e menores que 16.\n",
    "'''\n",
    "\n",
    "\n",
    "num = int(input('Insira um número inteiro: '))\n",
    "while 1 == 1:\n",
    "    if num < 16:\n",
    "        roda = num\n",
    "        fat = 1\n",
    "        print('{}!='.format(num),end=\" \")\n",
    "        while roda > 0:\n",
    "            print('{}.'.format(roda), end=' ')\n",
    "            fat*= roda\n",
    "            roda-=1\n",
    "        print('= {}'.format(fat))\n",
    "        perg = str(input('Fazer outro fatorial? S-sim ou N-não - \\n')).upper()\n",
    "        if perg =='S':\n",
    "            num = int(input('Insira um número inteiro: '))\n",
    "        else:\n",
    "            break\n",
    "    else:\n",
    "        break\n",
    "print('Número Inválido')\n",
    "\n",
    "\n",
    "        \n",
    "\n",
    "\n",
    "\n"
   ]
  },
  {
   "cell_type": "code",
   "execution_count": null,
   "id": "5cd0b0eb",
   "metadata": {},
   "outputs": [],
   "source": []
  }
 ],
 "metadata": {
  "kernelspec": {
   "display_name": "Python 3 (ipykernel)",
   "language": "python",
   "name": "python3"
  },
  "language_info": {
   "codemirror_mode": {
    "name": "ipython",
    "version": 3
   },
   "file_extension": ".py",
   "mimetype": "text/x-python",
   "name": "python",
   "nbconvert_exporter": "python",
   "pygments_lexer": "ipython3",
   "version": "3.9.12"
  }
 },
 "nbformat": 4,
 "nbformat_minor": 5
}
