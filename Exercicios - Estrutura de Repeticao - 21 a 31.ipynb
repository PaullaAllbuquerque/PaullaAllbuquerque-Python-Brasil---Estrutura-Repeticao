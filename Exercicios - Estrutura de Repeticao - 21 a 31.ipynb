{
 "cells": [
  {
   "cell_type": "code",
   "execution_count": 1,
   "id": "4825ac93",
   "metadata": {},
   "outputs": [
    {
     "name": "stdout",
     "output_type": "stream",
     "text": [
      "Insira um número inteiro: \n",
      "7\n",
      "O número 7 é um Número Primo\n"
     ]
    }
   ],
   "source": [
    "'''Exercicio 21 - Faça um programa que peça um número inteiro e \n",
    "determine se ele é ou não um número primo. Um número primo é aquele que é divisível somente por ele mesmo e por 1.\n",
    "'''\n",
    "\n",
    "num = int(input('Insira um número inteiro: \\n'))\n",
    "lista_inteiros = []\n",
    "\n",
    "\n",
    "for contador in range(2, num+1):\n",
    "    if num % contador == 0:\n",
    "        lista_inteiros.append(contador)\n",
    "        \n",
    "\n",
    "if len(lista_inteiros) == 1:\n",
    "    print('O número {} é um Número Primo'.format(num))\n",
    "else: \n",
    "    print('O número {} não é um Número Primo'.format(num))"
   ]
  },
  {
   "cell_type": "code",
   "execution_count": 5,
   "id": "6ac3bbaf",
   "metadata": {},
   "outputs": [
    {
     "name": "stdout",
     "output_type": "stream",
     "text": [
      "Insira um número inteiro: \n",
      "12\n",
      "O número 12 não é um Número Primo, pois é é divisível pelos número: [2, 3, 4, 6, 12]\n"
     ]
    }
   ],
   "source": [
    "'''Exercicio 22 - Altere o programa de cálculo dos números primos, \n",
    "informando, caso o número não seja primo, por quais número ele é divisível.\n",
    "'''\n",
    "\n",
    "num = int(input('Insira um número inteiro: \\n'))\n",
    "lista_inteiros = []\n",
    "\n",
    "\n",
    "for contador in range(2, num+1):\n",
    "    if num % contador == 0:\n",
    "        lista_inteiros.append(contador)\n",
    "\n",
    "if len(lista_inteiros) == 1:\n",
    "    print('O número {} é um Número Primo'.format(num))\n",
    "else:\n",
    "    \n",
    "    print('O número {0} não é um Número Primo, pois é é divisível pelos número: {1}'.format(num, lista_inteiros))\n",
    "    "
   ]
  },
  {
   "cell_type": "code",
   "execution_count": 45,
   "id": "1ba4245b",
   "metadata": {},
   "outputs": [
    {
     "name": "stdout",
     "output_type": "stream",
     "text": [
      "Insira um número inteiro: \n",
      "8\n",
      "Os Número Primos de 1 à 8 são: [1, 3, 5, 7] \n",
      "\n",
      "Foram executadas 9 divisões para encontrar os Numeros Primos\n"
     ]
    }
   ],
   "source": [
    "'''Exercício 23 - Faça um programa que mostre todos os primos entre 1 e N sendo N um número inteiro fornecido pelo usuário.\n",
    "O programa deverá mostrar também o número de divisões que ele executou para encontrar os números primos. \n",
    "Serão avaliados o funcionamento, o estilo e o número de testes (divisões) executados.\n",
    "'''\n",
    "num = int(input('Insira um número inteiro: \\n'))\n",
    "lista = []\n",
    "volta = 0\n",
    "    \n",
    "for contador in range(num+1):\n",
    "    if contador%2 == 1 and contador != 2:\n",
    "        lista.append(contador)\n",
    "        volta+=1\n",
    "    else: \n",
    "        volta+=1\n",
    "print('Os Número Primos de 1 à {0} são: {1} \\n'.format(num, lista))\n",
    "print('Foram executadas {} divisões para encontrar os Numeros Primos'.format(volta))\n",
    "\n",
    "   "
   ]
  },
  {
   "cell_type": "code",
   "execution_count": null,
   "id": "caf06d45",
   "metadata": {},
   "outputs": [
    {
     "name": "stdout",
     "output_type": "stream",
     "text": [
      "Insira o valor de um nota: 7\n"
     ]
    }
   ],
   "source": [
    "'''Exercício 24 - Faça um programa que calcule o mostre a média aritmética de N notas.\n",
    "'''\n",
    "perg = 'S'\n",
    "volta = 1\n",
    "lista_notas = []\n",
    "while perg == 'S':\n",
    "    notas = int(input('Insira o valor de um nota: '))\n",
    "    lista_notas.append(notas)\n",
    "    perg = str(input('Gostaria de inserir outra notas? s-sim ou n-não: ')).upper()\n",
    "    volta +=1\n",
    "print(lista_notas)\n",
    "media = (sum(lista_notas)/len(lista_notas))\n",
    "print(round(media))\n",
    "\n"
   ]
  },
  {
   "cell_type": "code",
   "execution_count": 13,
   "id": "39f5510c",
   "metadata": {},
   "outputs": [
    {
     "name": "stdout",
     "output_type": "stream",
     "text": [
      "Insira sua idade: 36\n",
      "Quer inserir outra idade? s\n",
      "Insira sua idade: 78\n",
      "Quer inserir outra idade? s\n",
      "Insira sua idade: 54\n",
      "Quer inserir outra idade? n\n",
      "[36, 78, 54]\n",
      "A média de idade é:  56 anos\n",
      "Turma Adulta\n"
     ]
    }
   ],
   "source": [
    "'''Exercício 25 - Faça um programa que peça para n pessoas a sua idade, ao final o programa devera verificar se a média de idade \n",
    "da turma varia entre 0 e 25,26 e 60 e maior que 60; e então, dizer se a turma é jovem, adulta ou idosa, \n",
    "conforme a média calculada.\n",
    "'''\n",
    "volta = 0\n",
    "perg = 'S'\n",
    "lista_idade = []\n",
    "\n",
    "while perg == \"S\":\n",
    "    idade = int(input('Insira sua idade: '))\n",
    "    lista_idade.append(idade)\n",
    "    perg = str(input('Quer inserir outra idade? ')).upper()\n",
    "    volta +=1\n",
    "print(lista_idade) \n",
    "media = (sum(lista_idade)/len(lista_idade))\n",
    "print('A média de idade é: ', round(media), 'anos')\n",
    "if media > 0 and media <= 25:\n",
    "    print('Tumra Jovem')\n",
    "elif media > 25 and media <= 60:\n",
    "    print('Turma Adulta')\n",
    "elif media > 60:\n",
    "    print ('Turma Idosa')\n",
    "    \n",
    "\n"
   ]
  },
  {
   "cell_type": "code",
   "execution_count": 16,
   "id": "0870a38f",
   "metadata": {},
   "outputs": [
    {
     "name": "stdout",
     "output_type": "stream",
     "text": [
      "Insira quantidade de eleitores: 3\n",
      "Vote em um dos candidadtos: 1- candidato1, 2- candidato2, 3- candidator3 - 1\n",
      "Vote em um dos candidadtos: 1- candidato1, 2- candidato2, 3- candidator3 - 1\n",
      "Vote em um dos candidadtos: 1- candidato1, 2- candidato2, 3- candidator3 - 3\n",
      "Candidato1 teve:  2 votos\n",
      "Candidato2 teve:  0 votos\n",
      "Candidato3 teve:  1 votos\n"
     ]
    }
   ],
   "source": [
    "'''Exercício 26 - Numa eleição existem três candidatos. Faça um programa que peça o número total de eleitores.\n",
    "Peça para cada eleitor votar e ao final mostrar o número de votos de cada candidato.\n",
    "'''\n",
    "num_eleitores = int(input('Insira quantidade de eleitores: '))\n",
    "candidato1 = 0\n",
    "candidato2 = 0\n",
    "candidato3 = 0\n",
    "votantes = 0\n",
    "\n",
    "while votantes < num_eleitores:\n",
    "    voto = int(input('Vote em um dos candidadtos: 1- candidato1, 2- candidato2, 3- candidator3 - '))\n",
    "    if voto == 1:\n",
    "        candidato1 +=1\n",
    "    elif voto == 2:\n",
    "        candidato2 +=1\n",
    "    elif voto == 3:\n",
    "        candidato3 +=1\n",
    "    votantes+=1\n",
    "print('Candidato1 teve: ', candidato1, 'votos')\n",
    "print('Candidato2 teve: ', candidato2, 'votos')        \n",
    "print('Candidato3 teve: ', candidato3, 'votos')  "
   ]
  },
  {
   "cell_type": "code",
   "execution_count": 17,
   "id": "efdd2ff4",
   "metadata": {},
   "outputs": [
    {
     "name": "stdout",
     "output_type": "stream",
     "text": [
      "Insira quantidade de turmas:3\n",
      "\n",
      "Turma[1]\n",
      "Insira quantidade de alunos desta turma: 5\n",
      "\n",
      "Turma[2]\n",
      "Insira quantidade de alunos desta turma: 7\n",
      "\n",
      "Turma[3]\n",
      "Insira quantidade de alunos desta turma: 21\n",
      "\n",
      " A média de alunos é de 11.0 alunos por turma\n"
     ]
    }
   ],
   "source": [
    "'''Exercício 27 - Faça um programa que calcule o número médio de alunos por turma. Para isto, peça a quantidade de turmas e \n",
    "a quantidade de alunos para cada turma. As turmas não podem ter mais de 40 alunos.\n",
    "'''\n",
    "\n",
    "quant = int(input('Insira quantidade de turmas:'))\n",
    "turmas = 0\n",
    "lista_quant_alunos = []\n",
    "\n",
    "while turmas < quant:\n",
    "    alunos = int(input('\\nTurma[{}]\\nInsira quantidade de alunos desta turma: '.format(turmas+1)))\n",
    "    lista_quant_alunos.append(alunos)\n",
    "    \n",
    "    while alunos < 0 or alunos > 40:\n",
    "        print ('\\nATENÇÃO: Valor inválido. Insira um numero maior que zero e menor que quarenta! \\n')\n",
    "        lista_quant_alunos.remove(alunos)\n",
    "        alunos = int(input('\\nInsira quantidade de alunos desta turma: \\n'))\n",
    "        lista_quant_alunos.append(alunos)\n",
    "        \n",
    "    turmas +=1\n",
    "\n",
    "media = (sum(lista_quant_alunos)/quant)\n",
    "print('\\n A média de alunos é de',media, 'alunos por turma')\n",
    "        \n"
   ]
  },
  {
   "cell_type": "code",
   "execution_count": 18,
   "id": "b1a365d1",
   "metadata": {},
   "outputs": [
    {
     "name": "stdout",
     "output_type": "stream",
     "text": [
      "Insira a quantidade de cds comprados: \n",
      "5\n",
      "\n",
      "CD[1]\n",
      "Qual o valor deste cd?\n",
      " R$3\n",
      "\n",
      "CD[2]\n",
      "Qual o valor deste cd?\n",
      " R$8\n",
      "\n",
      "CD[3]\n",
      "Qual o valor deste cd?\n",
      " R$6\n",
      "\n",
      "CD[4]\n",
      "Qual o valor deste cd?\n",
      " R$5\n",
      "\n",
      "CD[5]\n",
      "Qual o valor deste cd?\n",
      " R$4\n",
      "\n",
      "O valor total da coleção foi: R$ 26.0 \n",
      "O valor médio de cada CD foi: R$ 5.2\n"
     ]
    }
   ],
   "source": [
    "'''Exercício 28 - Faça um programa que calcule o valor total investido por um colecionador em sua coleção de CDs e o\n",
    "valor médio gasto em cada um deles. O usuário deverá informar a quantidade de CDs e o valor para em cada um.\n",
    "'''\n",
    "quant = int(input('Insira a quantidade de cds comprados: \\n'))\n",
    "cds = 0\n",
    "lista_total_cds = []\n",
    "while cds < quant:\n",
    "    preco = float(input('\\nCD[{}]\\nQual o valor deste cd?\\n R$'.format(cds+1)))\n",
    "    lista_total_cds.append(preco)\n",
    "    cds+=1\n",
    "    \n",
    "print('\\nO valor total da coleção foi: R$',sum(lista_total_cds), '\\nO valor médio de cada CD foi: R$',(sum(lista_total_cds)/quant))\n",
    "\n"
   ]
  },
  {
   "cell_type": "code",
   "execution_count": 20,
   "id": "5e8b0e67",
   "metadata": {},
   "outputs": [
    {
     "name": "stdout",
     "output_type": "stream",
     "text": [
      "Loja Quase Dois - Tabela de preços\n",
      "\n",
      "1 - R$ 1.99\n",
      "2 - R$ 3.98\n",
      "3 - R$ 5.97\n",
      "4 - R$ 7.96\n",
      "5 - R$ 9.95\n",
      "6 - R$ 11.94\n",
      "7 - R$ 13.93\n",
      "8 - R$ 15.92\n",
      "9 - R$ 17.91\n",
      "10 - R$ 19.9\n",
      "11 - R$ 21.89\n",
      "12 - R$ 23.88\n",
      "13 - R$ 25.87\n",
      "14 - R$ 27.86\n",
      "15 - R$ 29.85\n",
      "16 - R$ 31.84\n",
      "17 - R$ 33.83\n",
      "18 - R$ 35.82\n",
      "19 - R$ 37.81\n",
      "20 - R$ 39.8\n",
      "21 - R$ 41.79\n",
      "22 - R$ 43.78\n",
      "23 - R$ 45.77\n",
      "24 - R$ 47.76\n",
      "25 - R$ 49.75\n",
      "26 - R$ 51.74\n",
      "27 - R$ 53.73\n",
      "28 - R$ 55.72\n",
      "29 - R$ 57.71\n",
      "30 - R$ 59.7\n",
      "31 - R$ 61.69\n",
      "32 - R$ 63.68\n",
      "33 - R$ 65.67\n",
      "34 - R$ 67.66\n",
      "35 - R$ 69.65\n",
      "36 - R$ 71.64\n",
      "37 - R$ 73.63\n",
      "38 - R$ 75.62\n",
      "39 - R$ 77.61\n",
      "40 - R$ 79.6\n",
      "41 - R$ 81.59\n",
      "42 - R$ 83.58\n",
      "43 - R$ 85.57\n",
      "44 - R$ 87.56\n",
      "45 - R$ 89.55\n",
      "46 - R$ 91.54\n",
      "47 - R$ 93.53\n",
      "48 - R$ 95.52\n",
      "49 - R$ 97.51\n",
      "50 - R$ 99.5\n"
     ]
    }
   ],
   "source": [
    "'''Exercício 29 - O Sr. Manoel Joaquim possui uma grande loja de artigos de R$ 1,99, com cerca de 10 caixas. \n",
    "Para agilizar o cálculo de quanto cada cliente deve pagar ele desenvolveu um tabela que contém o número \n",
    "de itens que o cliente comprou e ao lado o valor da conta. Desta forma a atendente do caixa precisa apenas \n",
    "contar quantos itens o cliente está levando e olhar na tabela de preços. Você foi contratado para desenvolver \n",
    "o programa que monta esta tabela de preços, que conterá os preços de 1 até 50 produtos, conforme o exemplo abaixo:\n",
    "Lojas Quase Dois - Tabela de preços\n",
    "1 - R$ 1.99\n",
    "2 - R$ 3.98\n",
    "...\n",
    "50 - R$ 99.50\n",
    "'''\n",
    "produto = 1\n",
    "valor = 1.99\n",
    "\n",
    "print('Loja Quase Dois - Tabela de preços\\n')\n",
    "print(produto, '- R$', valor)\n",
    "while produto < 50:\n",
    "    item = (produto+1)*valor\n",
    "    produto +=1\n",
    "    print(produto, '- R$', item)\n",
    "    \n",
    "\n",
    "\n",
    "\n"
   ]
  },
  {
   "cell_type": "code",
   "execution_count": 21,
   "id": "14626de5",
   "metadata": {},
   "outputs": [
    {
     "name": "stdout",
     "output_type": "stream",
     "text": [
      "Panificadora Pão de Ontem - Tabela de preços\n",
      "\n",
      "1 - R$ 0.18\n",
      "2 - R$ 0.4\n",
      "3 - R$ 0.5\n",
      "4 - R$ 0.7\n",
      "5 - R$ 0.9\n",
      "6 - R$ 1.1\n",
      "7 - R$ 1.3\n",
      "8 - R$ 1.4\n",
      "9 - R$ 1.6\n",
      "10 - R$ 1.8\n",
      "11 - R$ 2.0\n",
      "12 - R$ 2.2\n",
      "13 - R$ 2.3\n",
      "14 - R$ 2.5\n",
      "15 - R$ 2.7\n",
      "16 - R$ 2.9\n",
      "17 - R$ 3.1\n",
      "18 - R$ 3.2\n",
      "19 - R$ 3.4\n",
      "20 - R$ 3.6\n",
      "21 - R$ 3.8\n",
      "22 - R$ 4.0\n",
      "23 - R$ 4.1\n",
      "24 - R$ 4.3\n",
      "25 - R$ 4.5\n",
      "26 - R$ 4.7\n",
      "27 - R$ 4.9\n",
      "28 - R$ 5.0\n",
      "29 - R$ 5.2\n",
      "30 - R$ 5.4\n",
      "31 - R$ 5.6\n",
      "32 - R$ 5.8\n",
      "33 - R$ 5.9\n",
      "34 - R$ 6.1\n",
      "35 - R$ 6.3\n",
      "36 - R$ 6.5\n",
      "37 - R$ 6.7\n",
      "38 - R$ 6.8\n",
      "39 - R$ 7.0\n",
      "40 - R$ 7.2\n",
      "41 - R$ 7.4\n",
      "42 - R$ 7.6\n",
      "43 - R$ 7.7\n",
      "44 - R$ 7.9\n",
      "45 - R$ 8.1\n",
      "46 - R$ 8.3\n",
      "47 - R$ 8.5\n",
      "48 - R$ 8.6\n",
      "49 - R$ 8.8\n",
      "50 - R$ 9.0\n"
     ]
    }
   ],
   "source": [
    "'''Exercício 30 - O Sr. Manoel Joaquim acaba de adquirir uma panificadora e pretende implantar a metodologia da tabelinha,\n",
    "que já é um sucesso na sua loja de 1,99. Você foi contratado para desenvolver o programa que monta a tabela de preços de pães,\n",
    "de 1 até 50 pães, a partir do preço do pão informado pelo usuário, conforme o exemplo abaixo:\n",
    "Preço do pão: R$ 0.18\n",
    "Panificadora Pão de Ontem - Tabela de preços\n",
    "1 - R$ 0.18\n",
    "2 - R$ 0.36\n",
    "...\n",
    "50 - R$ 9.00\n",
    "'''\n",
    "pao = 1\n",
    "valor = 0.18\n",
    "\n",
    "print('Panificadora Pão de Ontem - Tabela de preços\\n')\n",
    "print(pao, '- R$', valor)\n",
    "while pao < 50:\n",
    "    item = (pao+1)*valor\n",
    "    pao +=1\n",
    "    print(pao, '- R$', round(item, 1))\n",
    "    \n"
   ]
  },
  {
   "cell_type": "code",
   "execution_count": 3,
   "id": "fe309a89",
   "metadata": {},
   "outputs": [
    {
     "name": "stdout",
     "output_type": "stream",
     "text": [
      "PRODUTOS TABAJARA\n",
      "Insira o valor do produto: R$5\n",
      "1  - R$ 5.0\n",
      "Insira o valor do produto: R$9\n",
      "2 - R$ 9.0\n",
      "Insira o valor do produto: R$4\n",
      "3 - R$ 4.0\n",
      "Insira o valor do produto: R$3\n",
      "4 - R$ 3.0\n",
      "Insira o valor do produto: R$12\n",
      "5 - R$ 12.0\n",
      "Insira o valor do produto: R$0\n",
      "6 - R$ 0.0\n",
      "Valor total: 28.0\n",
      "\n",
      "Insira o valor da nota de pagamento: R$30\n",
      "\n",
      "Troco: R$ 2.0\n"
     ]
    }
   ],
   "source": [
    "'''Exercício 31 - O Sr. Manoel Joaquim expandiu seus negócios para além dos negócios de 1,99 e agora possui uma loja de conveniências. \n",
    "Faça um programa que implemente uma caixa registradora rudimentar.\n",
    "O programa deverá receber um número desconhecido de valores referentes aos preços das mercadorias.\n",
    "Um valor zero deve ser informado pelo operador para indicar o final da compra. O programa deve então mostrar o total da\n",
    "compra e perguntar o valor em dinheiro que o cliente forneceu, para então calcular e mostrar o valor do troco.\n",
    "Após esta operação, o programa deverá voltar ao ponto inicial, para registrar a próxima compra. \n",
    "A saída deve ser conforme o exemplo abaixo:\n",
    "Lojas Tabajara \n",
    "Produto 1: R$ 2.20\n",
    "Produto 2: R$ 5.80\n",
    "Produto 3: R$ 0\n",
    "Total: R$ 9.00\n",
    "Dinheiro: R$ 20.00\n",
    "Troco: R$ 11.\n",
    "'''\n",
    "print('PRODUTOS TABAJARA')\n",
    "valor = float(input('Insira o valor do produto: R$'))\n",
    "produto = 1\n",
    "lista_produtos = []\n",
    "print(produto, ' - R$',valor)\n",
    "\n",
    "while valor != 0:\n",
    "    valor = float(input('Insira o valor do produto: R$'))\n",
    "    produto = produto + 1\n",
    "    lista_produtos.append(valor)\n",
    "    print(produto, '- R$',valor)\n",
    "    \n",
    "    \n",
    "total = sum(lista_produtos)\n",
    "print('Valor total:', total)\n",
    "dinheiro = (float(input('\\nInsira o valor da nota de pagamento: R$')))\n",
    "troco = dinheiro - total\n",
    "print('\\nTroco: R$', troco)\n",
    "\n",
    "\n",
    "\n",
    "\n",
    "    \n",
    "\n",
    "\n"
   ]
  },
  {
   "cell_type": "code",
   "execution_count": null,
   "id": "f7c3b33a",
   "metadata": {},
   "outputs": [],
   "source": []
  }
 ],
 "metadata": {
  "kernelspec": {
   "display_name": "Python 3 (ipykernel)",
   "language": "python",
   "name": "python3"
  },
  "language_info": {
   "codemirror_mode": {
    "name": "ipython",
    "version": 3
   },
   "file_extension": ".py",
   "mimetype": "text/x-python",
   "name": "python",
   "nbconvert_exporter": "python",
   "pygments_lexer": "ipython3",
   "version": "3.9.12"
  }
 },
 "nbformat": 4,
 "nbformat_minor": 5
}
